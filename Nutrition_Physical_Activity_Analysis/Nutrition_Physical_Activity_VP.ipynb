{
 "cells": [
  {
   "cell_type": "markdown",
   "id": "809f3f37",
   "metadata": {},
   "source": [
    "#  <h1 style=\"color: brown;\">EDA ON NUTRITION PHYSICAL ACTIVITY "
   ]
  },
  {
   "cell_type": "markdown",
   "id": "02bc12ea",
   "metadata": {},
   "source": [
    "##   <h1 style=\"color: darkblue;\">Importing Libraries :-"
   ]
  },
  {
   "cell_type": "code",
   "execution_count": 1,
   "id": "70f4df50",
   "metadata": {},
   "outputs": [
    {
     "name": "stdout",
     "output_type": "stream",
     "text": [
      "Import Libraries Successfully\n"
     ]
    }
   ],
   "source": [
    "import pandas as pd\n",
    "import numpy as np\n",
    "import matplotlib.pyplot as plt\n",
    "import seaborn as sns\n",
    "import warnings\n",
    "warnings.filterwarnings('ignore')\n",
    "print('Import Libraries Successfully')"
   ]
  },
  {
   "cell_type": "markdown",
   "id": "685b0a1e",
   "metadata": {},
   "source": [
    "##  <h1 style=\"color: darkblue;\">Data Loading And Explortion :-"
   ]
  },
  {
   "cell_type": "code",
   "execution_count": 2,
   "id": "f89dec62",
   "metadata": {},
   "outputs": [
    {
     "data": {
      "text/html": [
       "<div>\n",
       "<style scoped>\n",
       "    .dataframe tbody tr th:only-of-type {\n",
       "        vertical-align: middle;\n",
       "    }\n",
       "\n",
       "    .dataframe tbody tr th {\n",
       "        vertical-align: top;\n",
       "    }\n",
       "\n",
       "    .dataframe thead th {\n",
       "        text-align: right;\n",
       "    }\n",
       "</style>\n",
       "<table border=\"1\" class=\"dataframe\">\n",
       "  <thead>\n",
       "    <tr style=\"text-align: right;\">\n",
       "      <th></th>\n",
       "      <th>YearStart</th>\n",
       "      <th>YearEnd</th>\n",
       "      <th>LocationAbbr</th>\n",
       "      <th>LocationDesc</th>\n",
       "      <th>Datasource</th>\n",
       "      <th>Class</th>\n",
       "      <th>Topic</th>\n",
       "      <th>Question</th>\n",
       "      <th>Data_Value_Unit</th>\n",
       "      <th>Data_Value_Type</th>\n",
       "      <th>...</th>\n",
       "      <th>GeoLocation</th>\n",
       "      <th>ClassID</th>\n",
       "      <th>TopicID</th>\n",
       "      <th>QuestionID</th>\n",
       "      <th>DataValueTypeID</th>\n",
       "      <th>LocationID</th>\n",
       "      <th>StratificationCategory1</th>\n",
       "      <th>Stratification1</th>\n",
       "      <th>StratificationCategoryId1</th>\n",
       "      <th>StratificationID1</th>\n",
       "    </tr>\n",
       "  </thead>\n",
       "  <tbody>\n",
       "    <tr>\n",
       "      <th>0</th>\n",
       "      <td>2011</td>\n",
       "      <td>2011</td>\n",
       "      <td>AK</td>\n",
       "      <td>Alaska</td>\n",
       "      <td>BRFSS</td>\n",
       "      <td>Obesity / Weight Status</td>\n",
       "      <td>Obesity / Weight Status</td>\n",
       "      <td>Percent of adults aged 18 years and older who ...</td>\n",
       "      <td>2011.0</td>\n",
       "      <td>Value</td>\n",
       "      <td>...</td>\n",
       "      <td>(64.845079957001, -147.722059036)</td>\n",
       "      <td>OWS</td>\n",
       "      <td>OWS1</td>\n",
       "      <td>Q036</td>\n",
       "      <td>VALUE</td>\n",
       "      <td>2</td>\n",
       "      <td>Race/Ethnicity</td>\n",
       "      <td>2 or more races</td>\n",
       "      <td>RACE</td>\n",
       "      <td>RACE2PLUS</td>\n",
       "    </tr>\n",
       "    <tr>\n",
       "      <th>1</th>\n",
       "      <td>2011</td>\n",
       "      <td>2011</td>\n",
       "      <td>AK</td>\n",
       "      <td>Alaska</td>\n",
       "      <td>BRFSS</td>\n",
       "      <td>Obesity / Weight Status</td>\n",
       "      <td>Obesity / Weight Status</td>\n",
       "      <td>Percent of adults aged 18 years and older who ...</td>\n",
       "      <td>2011.0</td>\n",
       "      <td>Value</td>\n",
       "      <td>...</td>\n",
       "      <td>(64.845079957001, -147.722059036)</td>\n",
       "      <td>OWS</td>\n",
       "      <td>OWS1</td>\n",
       "      <td>Q036</td>\n",
       "      <td>VALUE</td>\n",
       "      <td>2</td>\n",
       "      <td>Race/Ethnicity</td>\n",
       "      <td>Other</td>\n",
       "      <td>RACE</td>\n",
       "      <td>RACEOTH</td>\n",
       "    </tr>\n",
       "  </tbody>\n",
       "</table>\n",
       "<p>2 rows × 33 columns</p>\n",
       "</div>"
      ],
      "text/plain": [
       "   YearStart  YearEnd LocationAbbr LocationDesc Datasource  \\\n",
       "0       2011     2011           AK       Alaska      BRFSS   \n",
       "1       2011     2011           AK       Alaska      BRFSS   \n",
       "\n",
       "                     Class                    Topic  \\\n",
       "0  Obesity / Weight Status  Obesity / Weight Status   \n",
       "1  Obesity / Weight Status  Obesity / Weight Status   \n",
       "\n",
       "                                            Question  Data_Value_Unit  \\\n",
       "0  Percent of adults aged 18 years and older who ...           2011.0   \n",
       "1  Percent of adults aged 18 years and older who ...           2011.0   \n",
       "\n",
       "  Data_Value_Type  ...                        GeoLocation  ClassID TopicID  \\\n",
       "0           Value  ...  (64.845079957001, -147.722059036)      OWS    OWS1   \n",
       "1           Value  ...  (64.845079957001, -147.722059036)      OWS    OWS1   \n",
       "\n",
       "  QuestionID  DataValueTypeID  LocationID  StratificationCategory1  \\\n",
       "0       Q036            VALUE           2           Race/Ethnicity   \n",
       "1       Q036            VALUE           2           Race/Ethnicity   \n",
       "\n",
       "   Stratification1 StratificationCategoryId1 StratificationID1  \n",
       "0  2 or more races                      RACE         RACE2PLUS  \n",
       "1            Other                      RACE           RACEOTH  \n",
       "\n",
       "[2 rows x 33 columns]"
      ]
     },
     "execution_count": 2,
     "metadata": {},
     "output_type": "execute_result"
    }
   ],
   "source": [
    "df = pd.read_csv(r'C:\\Users\\aelisha patel\\Desktop\\Vrunda\\Nutrition__Physical_Activity.csv')\n",
    "df.head(2)"
   ]
  },
  {
   "cell_type": "code",
   "execution_count": 3,
   "id": "861ed4bf",
   "metadata": {},
   "outputs": [
    {
     "data": {
      "text/html": [
       "<div>\n",
       "<style scoped>\n",
       "    .dataframe tbody tr th:only-of-type {\n",
       "        vertical-align: middle;\n",
       "    }\n",
       "\n",
       "    .dataframe tbody tr th {\n",
       "        vertical-align: top;\n",
       "    }\n",
       "\n",
       "    .dataframe thead th {\n",
       "        text-align: right;\n",
       "    }\n",
       "</style>\n",
       "<table border=\"1\" class=\"dataframe\">\n",
       "  <thead>\n",
       "    <tr style=\"text-align: right;\">\n",
       "      <th></th>\n",
       "      <th>YearStart</th>\n",
       "      <th>YearEnd</th>\n",
       "      <th>LocationAbbr</th>\n",
       "      <th>LocationDesc</th>\n",
       "      <th>Datasource</th>\n",
       "      <th>Class</th>\n",
       "      <th>Topic</th>\n",
       "      <th>Question</th>\n",
       "      <th>Data_Value_Unit</th>\n",
       "      <th>Data_Value_Type</th>\n",
       "      <th>...</th>\n",
       "      <th>GeoLocation</th>\n",
       "      <th>ClassID</th>\n",
       "      <th>TopicID</th>\n",
       "      <th>QuestionID</th>\n",
       "      <th>DataValueTypeID</th>\n",
       "      <th>LocationID</th>\n",
       "      <th>StratificationCategory1</th>\n",
       "      <th>Stratification1</th>\n",
       "      <th>StratificationCategoryId1</th>\n",
       "      <th>StratificationID1</th>\n",
       "    </tr>\n",
       "  </thead>\n",
       "  <tbody>\n",
       "    <tr>\n",
       "      <th>104270</th>\n",
       "      <td>2023</td>\n",
       "      <td>2023</td>\n",
       "      <td>WY</td>\n",
       "      <td>Wyoming</td>\n",
       "      <td>BRFSS</td>\n",
       "      <td>Physical Activity</td>\n",
       "      <td>Physical Activity - Behavior</td>\n",
       "      <td>Percent of adults who engage in muscle-strengt...</td>\n",
       "      <td>NaN</td>\n",
       "      <td>Value</td>\n",
       "      <td>...</td>\n",
       "      <td>(43.23554134300048, -108.10983035299967)</td>\n",
       "      <td>PA</td>\n",
       "      <td>PA1</td>\n",
       "      <td>Q046</td>\n",
       "      <td>VALUE</td>\n",
       "      <td>56</td>\n",
       "      <td>Education</td>\n",
       "      <td>Less than high school</td>\n",
       "      <td>EDU</td>\n",
       "      <td>EDUHS</td>\n",
       "    </tr>\n",
       "    <tr>\n",
       "      <th>104271</th>\n",
       "      <td>2023</td>\n",
       "      <td>2023</td>\n",
       "      <td>WY</td>\n",
       "      <td>Wyoming</td>\n",
       "      <td>BRFSS</td>\n",
       "      <td>Physical Activity</td>\n",
       "      <td>Physical Activity - Behavior</td>\n",
       "      <td>Percent of adults who engage in no leisure-tim...</td>\n",
       "      <td>NaN</td>\n",
       "      <td>Value</td>\n",
       "      <td>...</td>\n",
       "      <td>(43.23554134300048, -108.10983035299967)</td>\n",
       "      <td>PA</td>\n",
       "      <td>PA1</td>\n",
       "      <td>Q047</td>\n",
       "      <td>VALUE</td>\n",
       "      <td>56</td>\n",
       "      <td>Age (years)</td>\n",
       "      <td>55 - 64</td>\n",
       "      <td>AGEYR</td>\n",
       "      <td>AGEYR5564</td>\n",
       "    </tr>\n",
       "  </tbody>\n",
       "</table>\n",
       "<p>2 rows × 33 columns</p>\n",
       "</div>"
      ],
      "text/plain": [
       "        YearStart  YearEnd LocationAbbr LocationDesc Datasource  \\\n",
       "104270       2023     2023           WY      Wyoming      BRFSS   \n",
       "104271       2023     2023           WY      Wyoming      BRFSS   \n",
       "\n",
       "                    Class                         Topic  \\\n",
       "104270  Physical Activity  Physical Activity - Behavior   \n",
       "104271  Physical Activity  Physical Activity - Behavior   \n",
       "\n",
       "                                                 Question  Data_Value_Unit  \\\n",
       "104270  Percent of adults who engage in muscle-strengt...              NaN   \n",
       "104271  Percent of adults who engage in no leisure-tim...              NaN   \n",
       "\n",
       "       Data_Value_Type  ...                               GeoLocation  \\\n",
       "104270           Value  ...  (43.23554134300048, -108.10983035299967)   \n",
       "104271           Value  ...  (43.23554134300048, -108.10983035299967)   \n",
       "\n",
       "        ClassID TopicID QuestionID  DataValueTypeID  LocationID  \\\n",
       "104270       PA     PA1       Q046            VALUE          56   \n",
       "104271       PA     PA1       Q047            VALUE          56   \n",
       "\n",
       "        StratificationCategory1        Stratification1  \\\n",
       "104270                Education  Less than high school   \n",
       "104271              Age (years)                55 - 64   \n",
       "\n",
       "       StratificationCategoryId1 StratificationID1  \n",
       "104270                       EDU             EDUHS  \n",
       "104271                     AGEYR         AGEYR5564  \n",
       "\n",
       "[2 rows x 33 columns]"
      ]
     },
     "execution_count": 3,
     "metadata": {},
     "output_type": "execute_result"
    }
   ],
   "source": [
    "df.tail(2)"
   ]
  },
  {
   "cell_type": "code",
   "execution_count": 4,
   "id": "7c285184",
   "metadata": {},
   "outputs": [
    {
     "name": "stdout",
     "output_type": "stream",
     "text": [
      "Shape of data : (104272, 33)\n",
      "Number of row : 104272\n",
      "Number of columns : 33\n"
     ]
    }
   ],
   "source": [
    "## Data Shape \n",
    "\n",
    "print('Shape of data : {}'.format(df.shape))\n",
    "print('Number of row : {}'.format(df.shape[0]))\n",
    "print('Number of columns : {}'.format(df.shape[1]))"
   ]
  },
  {
   "cell_type": "code",
   "execution_count": 5,
   "id": "7cf0474b",
   "metadata": {},
   "outputs": [],
   "source": [
    "df.columns = [col.capitalize() for col in df.columns]"
   ]
  },
  {
   "cell_type": "code",
   "execution_count": 6,
   "id": "dc6bc9be",
   "metadata": {},
   "outputs": [
    {
     "data": {
      "text/plain": [
       "Index(['Yearstart', 'Yearend', 'Locationabbr', 'Locationdesc', 'Datasource',\n",
       "       'Class', 'Topic', 'Question', 'Data_value_unit', 'Data_value_type',\n",
       "       'Data_value', 'Data_value_alt', 'Data_value_footnote_symbol',\n",
       "       'Data_value_footnote', 'Low_confidence_limit', 'High_confidence_limit ',\n",
       "       'Sample_size', 'Total', 'Age(years)', 'Education', 'Sex', 'Income',\n",
       "       'Race/ethnicity', 'Geolocation', 'Classid', 'Topicid', 'Questionid',\n",
       "       'Datavaluetypeid', 'Locationid', 'Stratificationcategory1',\n",
       "       'Stratification1', 'Stratificationcategoryid1', 'Stratificationid1'],\n",
       "      dtype='object')"
      ]
     },
     "execution_count": 6,
     "metadata": {},
     "output_type": "execute_result"
    }
   ],
   "source": [
    "df.columns"
   ]
  },
  {
   "cell_type": "markdown",
   "id": "8c63c38c",
   "metadata": {},
   "source": [
    "## Rename Columns Name :-"
   ]
  },
  {
   "cell_type": "code",
   "execution_count": 7,
   "id": "8fa2fc95",
   "metadata": {},
   "outputs": [],
   "source": [
    "df.rename(columns={'Yearstart': 'Year_start'}, inplace=True)\n",
    "df.rename(columns={'Yearend': 'Year_end'}, inplace=True)\n",
    "df.rename(columns={'Locationdesc': 'State_name'}, inplace=True)\n",
    "df.rename(columns={'Age(years)': 'Age_group'}, inplace=True)\n",
    "df.rename(columns={'Race/ethnicity': 'Race_ethnicity'}, inplace=True)"
   ]
  },
  {
   "cell_type": "markdown",
   "id": "6408ed69",
   "metadata": {},
   "source": [
    "## Find Unique Values"
   ]
  },
  {
   "cell_type": "raw",
   "id": "adfc1e1a",
   "metadata": {},
   "source": [
    "## unique() helps identify all distinct categories or values in a column without showing duplicates.\""
   ]
  },
  {
   "cell_type": "code",
   "execution_count": 8,
   "id": "877ae7e3",
   "metadata": {},
   "outputs": [
    {
     "data": {
      "text/plain": [
       "array([nan, '35 - 44', '25 - 34', '18 - 24', '55 - 64', '65 or older',\n",
       "       '45 - 54'], dtype=object)"
      ]
     },
     "execution_count": 8,
     "metadata": {},
     "output_type": "execute_result"
    }
   ],
   "source": [
    "df['Age_group'].unique()"
   ]
  },
  {
   "cell_type": "code",
   "execution_count": 9,
   "id": "e9ddbe87",
   "metadata": {},
   "outputs": [
    {
     "data": {
      "text/plain": [
       "array([nan, 'Female', 'Male'], dtype=object)"
      ]
     },
     "execution_count": 9,
     "metadata": {},
     "output_type": "execute_result"
    }
   ],
   "source": [
    "df['Sex'].unique()"
   ]
  },
  {
   "cell_type": "code",
   "execution_count": 10,
   "id": "204ad451",
   "metadata": {},
   "outputs": [
    {
     "data": {
      "text/plain": [
       "array([2011, 2016, 2012, 2014, 2015, 2013, 2017, 2018, 2019, 2020, 2021,\n",
       "       2022, 2023], dtype=int64)"
      ]
     },
     "execution_count": 10,
     "metadata": {},
     "output_type": "execute_result"
    }
   ],
   "source": [
    "df['Year_start'].unique()"
   ]
  },
  {
   "cell_type": "raw",
   "id": "09a1adb2",
   "metadata": {},
   "source": [
    "## Use .value_counts() to see how many times each unique value appears in a column."
   ]
  },
  {
   "cell_type": "code",
   "execution_count": 11,
   "id": "14d9d522",
   "metadata": {},
   "outputs": [
    {
     "data": {
      "text/plain": [
       "Less than high school               3724\n",
       "Some college or technical school    3724\n",
       "High school graduate                3724\n",
       "College graduate                    3724\n",
       "Name: Education, dtype: int64"
      ]
     },
     "execution_count": 11,
     "metadata": {},
     "output_type": "execute_result"
    }
   ],
   "source": [
    "df['Education'].value_counts()"
   ]
  },
  {
   "cell_type": "code",
   "execution_count": 12,
   "id": "dcbd72b1",
   "metadata": {},
   "outputs": [
    {
     "data": {
      "text/plain": [
       "2017    13860\n",
       "2019    13608\n",
       "2023    10780\n",
       "2015    10584\n",
       "2013    10248\n",
       "2011    10192\n",
       "2021     7700\n",
       "2016     4620\n",
       "2018     4620\n",
       "2022     4620\n",
       "2014     4536\n",
       "2020     4536\n",
       "2012     4368\n",
       "Name: Year_start, dtype: int64"
      ]
     },
     "execution_count": 12,
     "metadata": {},
     "output_type": "execute_result"
    }
   ],
   "source": [
    "df['Year_start'].value_counts()"
   ]
  },
  {
   "cell_type": "code",
   "execution_count": 13,
   "id": "2ca66fc6",
   "metadata": {},
   "outputs": [
    {
     "data": {
      "text/html": [
       "<div>\n",
       "<style scoped>\n",
       "    .dataframe tbody tr th:only-of-type {\n",
       "        vertical-align: middle;\n",
       "    }\n",
       "\n",
       "    .dataframe tbody tr th {\n",
       "        vertical-align: top;\n",
       "    }\n",
       "\n",
       "    .dataframe thead th {\n",
       "        text-align: right;\n",
       "    }\n",
       "</style>\n",
       "<table border=\"1\" class=\"dataframe\">\n",
       "  <thead>\n",
       "    <tr style=\"text-align: right;\">\n",
       "      <th></th>\n",
       "      <th>Year_start</th>\n",
       "      <th>Year_end</th>\n",
       "      <th>Data_value_unit</th>\n",
       "      <th>Data_value</th>\n",
       "      <th>Data_value_alt</th>\n",
       "      <th>Low_confidence_limit</th>\n",
       "      <th>High_confidence_limit</th>\n",
       "      <th>Sample_size</th>\n",
       "      <th>Locationid</th>\n",
       "    </tr>\n",
       "  </thead>\n",
       "  <tbody>\n",
       "    <tr>\n",
       "      <th>count</th>\n",
       "      <td>104272.000000</td>\n",
       "      <td>104272.000000</td>\n",
       "      <td>88872.000000</td>\n",
       "      <td>93505.000000</td>\n",
       "      <td>93505.000000</td>\n",
       "      <td>93505.000000</td>\n",
       "      <td>93505.000000</td>\n",
       "      <td>93505.000000</td>\n",
       "      <td>104272.000000</td>\n",
       "    </tr>\n",
       "    <tr>\n",
       "      <th>mean</th>\n",
       "      <td>2017.006176</td>\n",
       "      <td>2017.006176</td>\n",
       "      <td>2016.019534</td>\n",
       "      <td>31.849359</td>\n",
       "      <td>31.849359</td>\n",
       "      <td>27.452834</td>\n",
       "      <td>36.803022</td>\n",
       "      <td>3623.035260</td>\n",
       "      <td>31.053706</td>\n",
       "    </tr>\n",
       "    <tr>\n",
       "      <th>std</th>\n",
       "      <td>3.734882</td>\n",
       "      <td>3.734882</td>\n",
       "      <td>3.120714</td>\n",
       "      <td>10.417933</td>\n",
       "      <td>10.417933</td>\n",
       "      <td>10.204503</td>\n",
       "      <td>11.343284</td>\n",
       "      <td>18561.958269</td>\n",
       "      <td>17.605859</td>\n",
       "    </tr>\n",
       "    <tr>\n",
       "      <th>min</th>\n",
       "      <td>2011.000000</td>\n",
       "      <td>2011.000000</td>\n",
       "      <td>2011.000000</td>\n",
       "      <td>0.900000</td>\n",
       "      <td>0.900000</td>\n",
       "      <td>0.300000</td>\n",
       "      <td>3.000000</td>\n",
       "      <td>50.000000</td>\n",
       "      <td>1.000000</td>\n",
       "    </tr>\n",
       "    <tr>\n",
       "      <th>25%</th>\n",
       "      <td>2014.000000</td>\n",
       "      <td>2014.000000</td>\n",
       "      <td>2013.000000</td>\n",
       "      <td>24.900000</td>\n",
       "      <td>24.900000</td>\n",
       "      <td>20.400000</td>\n",
       "      <td>29.200000</td>\n",
       "      <td>499.000000</td>\n",
       "      <td>17.000000</td>\n",
       "    </tr>\n",
       "    <tr>\n",
       "      <th>50%</th>\n",
       "      <td>2017.000000</td>\n",
       "      <td>2017.000000</td>\n",
       "      <td>2016.000000</td>\n",
       "      <td>31.700000</td>\n",
       "      <td>31.700000</td>\n",
       "      <td>27.300000</td>\n",
       "      <td>36.500000</td>\n",
       "      <td>1085.000000</td>\n",
       "      <td>30.000000</td>\n",
       "    </tr>\n",
       "    <tr>\n",
       "      <th>75%</th>\n",
       "      <td>2020.000000</td>\n",
       "      <td>2020.000000</td>\n",
       "      <td>2019.000000</td>\n",
       "      <td>37.500000</td>\n",
       "      <td>37.500000</td>\n",
       "      <td>33.400000</td>\n",
       "      <td>42.900000</td>\n",
       "      <td>2397.000000</td>\n",
       "      <td>45.000000</td>\n",
       "    </tr>\n",
       "    <tr>\n",
       "      <th>max</th>\n",
       "      <td>2023.000000</td>\n",
       "      <td>2023.000000</td>\n",
       "      <td>2021.000000</td>\n",
       "      <td>85.300000</td>\n",
       "      <td>85.300000</td>\n",
       "      <td>74.700000</td>\n",
       "      <td>92.400000</td>\n",
       "      <td>476876.000000</td>\n",
       "      <td>78.000000</td>\n",
       "    </tr>\n",
       "  </tbody>\n",
       "</table>\n",
       "</div>"
      ],
      "text/plain": [
       "          Year_start       Year_end  Data_value_unit    Data_value  \\\n",
       "count  104272.000000  104272.000000     88872.000000  93505.000000   \n",
       "mean     2017.006176    2017.006176      2016.019534     31.849359   \n",
       "std         3.734882       3.734882         3.120714     10.417933   \n",
       "min      2011.000000    2011.000000      2011.000000      0.900000   \n",
       "25%      2014.000000    2014.000000      2013.000000     24.900000   \n",
       "50%      2017.000000    2017.000000      2016.000000     31.700000   \n",
       "75%      2020.000000    2020.000000      2019.000000     37.500000   \n",
       "max      2023.000000    2023.000000      2021.000000     85.300000   \n",
       "\n",
       "       Data_value_alt  Low_confidence_limit  High_confidence_limit   \\\n",
       "count    93505.000000          93505.000000            93505.000000   \n",
       "mean        31.849359             27.452834               36.803022   \n",
       "std         10.417933             10.204503               11.343284   \n",
       "min          0.900000              0.300000                3.000000   \n",
       "25%         24.900000             20.400000               29.200000   \n",
       "50%         31.700000             27.300000               36.500000   \n",
       "75%         37.500000             33.400000               42.900000   \n",
       "max         85.300000             74.700000               92.400000   \n",
       "\n",
       "         Sample_size     Locationid  \n",
       "count   93505.000000  104272.000000  \n",
       "mean     3623.035260      31.053706  \n",
       "std     18561.958269      17.605859  \n",
       "min        50.000000       1.000000  \n",
       "25%       499.000000      17.000000  \n",
       "50%      1085.000000      30.000000  \n",
       "75%      2397.000000      45.000000  \n",
       "max    476876.000000      78.000000  "
      ]
     },
     "execution_count": 13,
     "metadata": {},
     "output_type": "execute_result"
    }
   ],
   "source": [
    "df.describe()"
   ]
  },
  {
   "cell_type": "markdown",
   "id": "22ea772f",
   "metadata": {},
   "source": [
    "## Find Any Missing And Duplicates Values :-"
   ]
  },
  {
   "cell_type": "code",
   "execution_count": 14,
   "id": "953671e4",
   "metadata": {},
   "outputs": [
    {
     "name": "stdout",
     "output_type": "stream",
     "text": [
      "Total                         100548\n",
      "Sex                            96824\n",
      "Data_value_footnote_symbol     93505\n",
      "Data_value_footnote            93505\n",
      "Education                      89376\n",
      "Age_group                      81928\n",
      "Income                         78204\n",
      "Race_ethnicity                 74480\n",
      "Data_value_unit                15400\n",
      "High_confidence_limit          10767\n",
      "Low_confidence_limit           10767\n",
      "Sample_size                    10767\n",
      "Data_value                     10767\n",
      "Data_value_alt                 10767\n",
      "Geolocation                     1932\n",
      "Topicid                            0\n",
      "Questionid                         0\n",
      "Classid                            0\n",
      "Datavaluetypeid                    0\n",
      "Locationid                         0\n",
      "Stratificationcategory1            0\n",
      "Stratification1                    0\n",
      "Stratificationcategoryid1          0\n",
      "Year_start                         0\n",
      "Year_end                           0\n",
      "Data_value_type                    0\n",
      "Question                           0\n",
      "Topic                              0\n",
      "Class                              0\n",
      "Datasource                         0\n",
      "State_name                         0\n",
      "Locationabbr                       0\n",
      "Stratificationid1                  0\n",
      "dtype: int64\n",
      "Duplicated Values in data are 0\n",
      "duplicated dropped\n"
     ]
    }
   ],
   "source": [
    "print(df.isna().sum().sort_values(ascending = False))\n",
    "print('Duplicated Values in data are', df.duplicated().sum())\n",
    "print('duplicated dropped')"
   ]
  },
  {
   "cell_type": "code",
   "execution_count": 15,
   "id": "87f27f7c",
   "metadata": {},
   "outputs": [
    {
     "data": {
      "text/plain": [
       "Year_start                      int64\n",
       "Year_end                        int64\n",
       "Locationabbr                   object\n",
       "State_name                     object\n",
       "Datasource                     object\n",
       "Class                          object\n",
       "Topic                          object\n",
       "Question                       object\n",
       "Data_value_unit               float64\n",
       "Data_value_type                object\n",
       "Data_value                    float64\n",
       "Data_value_alt                float64\n",
       "Data_value_footnote_symbol     object\n",
       "Data_value_footnote            object\n",
       "Low_confidence_limit          float64\n",
       "High_confidence_limit         float64\n",
       "Sample_size                   float64\n",
       "Total                          object\n",
       "Age_group                      object\n",
       "Education                      object\n",
       "Sex                            object\n",
       "Income                         object\n",
       "Race_ethnicity                 object\n",
       "Geolocation                    object\n",
       "Classid                        object\n",
       "Topicid                        object\n",
       "Questionid                     object\n",
       "Datavaluetypeid                object\n",
       "Locationid                      int64\n",
       "Stratificationcategory1        object\n",
       "Stratification1                object\n",
       "Stratificationcategoryid1      object\n",
       "Stratificationid1              object\n",
       "dtype: object"
      ]
     },
     "execution_count": 15,
     "metadata": {},
     "output_type": "execute_result"
    }
   ],
   "source": [
    "df.dtypes"
   ]
  },
  {
   "cell_type": "markdown",
   "id": "73dca6f7",
   "metadata": {},
   "source": [
    "## Change Column Data Types :-"
   ]
  },
  {
   "cell_type": "code",
   "execution_count": 16,
   "id": "738e9034",
   "metadata": {},
   "outputs": [],
   "source": [
    "df['Data_value_unit'] = df['Data_value_unit'].astype('str')\n",
    "df['Age_group'] = df['Age_group'].astype('category')\n",
    "df['Education'] = df['Education'].astype('category')\n",
    "df['Sex'] = df['Sex'].astype('category')\n",
    "df['Income'] = df['Income'].astype('category')\n",
    "df['Race_ethnicity'] = df['Race_ethnicity'].astype('category')"
   ]
  },
  {
   "cell_type": "code",
   "execution_count": 17,
   "id": "716a8623",
   "metadata": {},
   "outputs": [
    {
     "data": {
      "text/html": [
       "<div>\n",
       "<style scoped>\n",
       "    .dataframe tbody tr th:only-of-type {\n",
       "        vertical-align: middle;\n",
       "    }\n",
       "\n",
       "    .dataframe tbody tr th {\n",
       "        vertical-align: top;\n",
       "    }\n",
       "\n",
       "    .dataframe thead th {\n",
       "        text-align: right;\n",
       "    }\n",
       "</style>\n",
       "<table border=\"1\" class=\"dataframe\">\n",
       "  <thead>\n",
       "    <tr style=\"text-align: right;\">\n",
       "      <th></th>\n",
       "      <th>Year_start</th>\n",
       "      <th>Year_end</th>\n",
       "      <th>Locationabbr</th>\n",
       "      <th>State_name</th>\n",
       "      <th>Datasource</th>\n",
       "      <th>Class</th>\n",
       "      <th>Topic</th>\n",
       "      <th>Question</th>\n",
       "      <th>Data_value_unit</th>\n",
       "      <th>Data_value_type</th>\n",
       "      <th>...</th>\n",
       "      <th>Geolocation</th>\n",
       "      <th>Classid</th>\n",
       "      <th>Topicid</th>\n",
       "      <th>Questionid</th>\n",
       "      <th>Datavaluetypeid</th>\n",
       "      <th>Locationid</th>\n",
       "      <th>Stratificationcategory1</th>\n",
       "      <th>Stratification1</th>\n",
       "      <th>Stratificationcategoryid1</th>\n",
       "      <th>Stratificationid1</th>\n",
       "    </tr>\n",
       "  </thead>\n",
       "  <tbody>\n",
       "    <tr>\n",
       "      <th>0</th>\n",
       "      <td>2011</td>\n",
       "      <td>2011</td>\n",
       "      <td>AK</td>\n",
       "      <td>Alaska</td>\n",
       "      <td>BRFSS</td>\n",
       "      <td>Obesity / Weight Status</td>\n",
       "      <td>Obesity / Weight Status</td>\n",
       "      <td>Percent of adults aged 18 years and older who ...</td>\n",
       "      <td>2011.0</td>\n",
       "      <td>Value</td>\n",
       "      <td>...</td>\n",
       "      <td>(64.845079957001, -147.722059036)</td>\n",
       "      <td>OWS</td>\n",
       "      <td>OWS1</td>\n",
       "      <td>Q036</td>\n",
       "      <td>VALUE</td>\n",
       "      <td>2</td>\n",
       "      <td>Race/Ethnicity</td>\n",
       "      <td>2 or more races</td>\n",
       "      <td>RACE</td>\n",
       "      <td>RACE2PLUS</td>\n",
       "    </tr>\n",
       "    <tr>\n",
       "      <th>1</th>\n",
       "      <td>2011</td>\n",
       "      <td>2011</td>\n",
       "      <td>AK</td>\n",
       "      <td>Alaska</td>\n",
       "      <td>BRFSS</td>\n",
       "      <td>Obesity / Weight Status</td>\n",
       "      <td>Obesity / Weight Status</td>\n",
       "      <td>Percent of adults aged 18 years and older who ...</td>\n",
       "      <td>2011.0</td>\n",
       "      <td>Value</td>\n",
       "      <td>...</td>\n",
       "      <td>(64.845079957001, -147.722059036)</td>\n",
       "      <td>OWS</td>\n",
       "      <td>OWS1</td>\n",
       "      <td>Q036</td>\n",
       "      <td>VALUE</td>\n",
       "      <td>2</td>\n",
       "      <td>Race/Ethnicity</td>\n",
       "      <td>Other</td>\n",
       "      <td>RACE</td>\n",
       "      <td>RACEOTH</td>\n",
       "    </tr>\n",
       "    <tr>\n",
       "      <th>2</th>\n",
       "      <td>2011</td>\n",
       "      <td>2011</td>\n",
       "      <td>AK</td>\n",
       "      <td>Alaska</td>\n",
       "      <td>BRFSS</td>\n",
       "      <td>Physical Activity</td>\n",
       "      <td>Physical Activity - Behavior</td>\n",
       "      <td>Percent of adults who achieve at least 150 min...</td>\n",
       "      <td>2011.0</td>\n",
       "      <td>Value</td>\n",
       "      <td>...</td>\n",
       "      <td>(64.845079957001, -147.722059036)</td>\n",
       "      <td>PA</td>\n",
       "      <td>PA1</td>\n",
       "      <td>Q044</td>\n",
       "      <td>VALUE</td>\n",
       "      <td>2</td>\n",
       "      <td>Sex</td>\n",
       "      <td>Female</td>\n",
       "      <td>SEX</td>\n",
       "      <td>FEMALE</td>\n",
       "    </tr>\n",
       "    <tr>\n",
       "      <th>3</th>\n",
       "      <td>2011</td>\n",
       "      <td>2011</td>\n",
       "      <td>AK</td>\n",
       "      <td>Alaska</td>\n",
       "      <td>BRFSS</td>\n",
       "      <td>Obesity / Weight Status</td>\n",
       "      <td>Obesity / Weight Status</td>\n",
       "      <td>Percent of adults aged 18 years and older who ...</td>\n",
       "      <td>2011.0</td>\n",
       "      <td>Value</td>\n",
       "      <td>...</td>\n",
       "      <td>(64.845079957001, -147.722059036)</td>\n",
       "      <td>OWS</td>\n",
       "      <td>OWS1</td>\n",
       "      <td>Q036</td>\n",
       "      <td>VALUE</td>\n",
       "      <td>2</td>\n",
       "      <td>Age (years)</td>\n",
       "      <td>35 - 44</td>\n",
       "      <td>AGEYR</td>\n",
       "      <td>AGEYR3544</td>\n",
       "    </tr>\n",
       "  </tbody>\n",
       "</table>\n",
       "<p>4 rows × 33 columns</p>\n",
       "</div>"
      ],
      "text/plain": [
       "   Year_start  Year_end Locationabbr State_name Datasource  \\\n",
       "0        2011      2011           AK     Alaska      BRFSS   \n",
       "1        2011      2011           AK     Alaska      BRFSS   \n",
       "2        2011      2011           AK     Alaska      BRFSS   \n",
       "3        2011      2011           AK     Alaska      BRFSS   \n",
       "\n",
       "                     Class                         Topic  \\\n",
       "0  Obesity / Weight Status       Obesity / Weight Status   \n",
       "1  Obesity / Weight Status       Obesity / Weight Status   \n",
       "2        Physical Activity  Physical Activity - Behavior   \n",
       "3  Obesity / Weight Status       Obesity / Weight Status   \n",
       "\n",
       "                                            Question Data_value_unit  \\\n",
       "0  Percent of adults aged 18 years and older who ...          2011.0   \n",
       "1  Percent of adults aged 18 years and older who ...          2011.0   \n",
       "2  Percent of adults who achieve at least 150 min...          2011.0   \n",
       "3  Percent of adults aged 18 years and older who ...          2011.0   \n",
       "\n",
       "  Data_value_type  ...                        Geolocation  Classid Topicid  \\\n",
       "0           Value  ...  (64.845079957001, -147.722059036)      OWS    OWS1   \n",
       "1           Value  ...  (64.845079957001, -147.722059036)      OWS    OWS1   \n",
       "2           Value  ...  (64.845079957001, -147.722059036)       PA     PA1   \n",
       "3           Value  ...  (64.845079957001, -147.722059036)      OWS    OWS1   \n",
       "\n",
       "  Questionid  Datavaluetypeid  Locationid  Stratificationcategory1  \\\n",
       "0       Q036            VALUE           2           Race/Ethnicity   \n",
       "1       Q036            VALUE           2           Race/Ethnicity   \n",
       "2       Q044            VALUE           2                      Sex   \n",
       "3       Q036            VALUE           2              Age (years)   \n",
       "\n",
       "   Stratification1 Stratificationcategoryid1 Stratificationid1  \n",
       "0  2 or more races                      RACE         RACE2PLUS  \n",
       "1            Other                      RACE           RACEOTH  \n",
       "2           Female                       SEX            FEMALE  \n",
       "3          35 - 44                     AGEYR         AGEYR3544  \n",
       "\n",
       "[4 rows x 33 columns]"
      ]
     },
     "execution_count": 17,
     "metadata": {},
     "output_type": "execute_result"
    }
   ],
   "source": [
    "df.head(4)"
   ]
  },
  {
   "cell_type": "markdown",
   "id": "86eb7299",
   "metadata": {},
   "source": [
    "##  <h1 style=\"color: darkblue;\">Data Visualization :-"
   ]
  },
  {
   "cell_type": "code",
   "execution_count": 19,
   "id": "725430d6",
   "metadata": {},
   "outputs": [
    {
     "data": {
      "image/png": "[encoded data removed]",
      "text/plain": [
       "<Figure size 576x360 with 1 Axes>"
      ]
     },
     "metadata": {},
     "output_type": "display_data"
    }
   ],
   "source": [
    "## Creates a pie chart comparing the average Data_value for \n",
    " # the years 2015 and 2016, highlighting their percentage contributions.\n",
    "\n",
    "plt.figure(figsize=(8,5))\n",
    "plt.pie([df[df[\"Year_start\"] == 2015][\"Data_value\"].mean(), \n",
    "        df[df[\"Year_start\"] == 2016][\"Data_value\"].mean()], \n",
    "        labels=[\"2015\", \"2016\"],  autopct='%1.1f%%', startangle=140, colors=['#2ca02c', '#d62728'])\n",
    "plt.title(\"Average Data Value: 2015 vs 2016\")\n",
    "plt.axis('equal')\n",
    "plt.show()"
   ]
  },
  {
   "cell_type": "code",
   "execution_count": 18,
   "id": "bee89192",
   "metadata": {},
   "outputs": [
    {
     "data": {
      "image/png": "[encoded data removed]",
      "text/plain": [
       "<Figure size 576x432 with 1 Axes>"
      ]
     },
     "metadata": {
      "needs_background": "light"
     },
     "output_type": "display_data"
    }
   ],
   "source": [
    "## This bar chart showing how many records exist for each unique Data_value_unit in the dataset.\n",
    "\n",
    "plt.figure(figsize=(8, 6))\n",
    "ax = sns.countplot(x=\"Data_value_unit\", data=df)\n",
    "ax.bar_label(ax.containers[0])\n",
    "plt.title(\"Count of Records by Data Value Unit\", fontsize=20)\n",
    "plt.xlabel(\"Data Value Unit\", fontsize=16)\n",
    "plt.ylabel(\"Count\", fontsize=16)\n",
    "plt.xticks(rotation=45)\n",
    "plt.tight_layout()\n",
    "plt.show()"
   ]
  },
  {
   "cell_type": "code",
   "execution_count": 20,
   "id": "4fc0e0c5",
   "metadata": {},
   "outputs": [
    {
     "data": {
      "image/png": "[encoded data removed]",
      "text/plain": [
       "<Figure size 504x360 with 1 Axes>"
      ]
     },
     "metadata": {
      "needs_background": "light"
     },
     "output_type": "display_data"
    }
   ],
   "source": [
    "## Creates a bar chart of average Data_value by Sex, \n",
    " # with each bar labeled to show its percentage contribution to the total.\"\n",
    "\n",
    "avg_data = df.groupby('Sex')['Data_value'].mean().reset_index()\n",
    "total = avg_data['Data_value'].sum()\n",
    "avg_data['Percent'] = (avg_data['Data_value'] / total) * 100\n",
    "plt.figure(figsize=(7,5))\n",
    "ax = sns.barplot(data=avg_data, x='Sex', y='Data_value', palette='Set2')\n",
    "for container in ax.containers:\n",
    "    ax.bar_label(container, labels=[f'{p:.1f}%' for p in avg_data['Percent']], fontsize=12)\n",
    "plt.title('Average Data Value by Sex (with % Labels)', fontsize=16)\n",
    "plt.xlabel('Sex', fontsize=12)\n",
    "plt.ylabel('Average Data Value', fontsize=12)\n",
    "plt.xticks(rotation=0)\n",
    "plt.tight_layout()\n",
    "plt.show()\n"
   ]
  },
  {
   "cell_type": "code",
   "execution_count": 21,
   "id": "d215bb63",
   "metadata": {},
   "outputs": [
    {
     "data": {
      "image/png": "[encoded data removed]",
      "text/plain": [
       "<Figure size 720x432 with 1 Axes>"
      ]
     },
     "metadata": {
      "needs_background": "light"
     },
     "output_type": "display_data"
    }
   ],
   "source": [
    "## Using box plot to visualize the range, median, and outliers of Data_value across 2015 and 2016\n",
    "\n",
    "plt.figure(figsize=(10, 6))\n",
    "sns.boxplot(x=\"Year_start\", y=\"Data_value\", data=df[df[\"Year_start\"].isin([2015, 2016])])\n",
    "plt.title(\"Data Value for 2015 and 2016\")\n",
    "plt.xlabel(\"Year Start\")\n",
    "plt.ylabel(\"Data Value\")\n",
    "plt.xticks(rotation=45)\n",
    "plt.show()"
   ]
  },
  {
   "cell_type": "code",
   "execution_count": 22,
   "id": "6a3bcfc0",
   "metadata": {},
   "outputs": [
    {
     "data": {
      "image/png": "[encoded data removed]",
      "text/plain": [
       "<Figure size 576x432 with 1 Axes>"
      ]
     },
     "metadata": {},
     "output_type": "display_data"
    }
   ],
   "source": [
    "## This pie chart displays the percentage distribution of records across different Year_start values, \n",
    " # showing how data is spread by year.\n",
    "\n",
    "year_counts = df['Year_start'].value_counts()\n",
    "plt.figure(figsize=(8, 6))\n",
    "plt.pie(year_counts, labels=year_counts.index, autopct='%1.1f%%', startangle=90)\n",
    "plt.title(\"Distribution of Records by Year\", fontsize=20)\n",
    "plt.axis('equal')\n",
    "plt.show()"
   ]
  },
  {
   "cell_type": "code",
   "execution_count": 24,
   "id": "3a7f13c3",
   "metadata": {},
   "outputs": [
    {
     "data": {
      "image/png": "[encoded data removed]",
      "text/plain": [
       "<Figure size 576x360 with 1 Axes>"
      ]
     },
     "metadata": {
      "needs_background": "light"
     },
     "output_type": "display_data"
    }
   ],
   "source": [
    "## This bar chart shows the average Data_value for each year, making it easy to compare yearly differences.\n",
    "\n",
    "plt.figure(figsize=(8, 5))\n",
    "sns.barplot(data=df, x=\"Year_start\", y=\"Data_value\", ci=None, palette=\"viridis\")\n",
    "plt.title(\"Average Data Value by Year\")\n",
    "plt.xlabel(\"Year\")\n",
    "plt.ylabel(\"Average Data Value\")\n",
    "plt.xticks(rotation=45)\n",
    "plt.tight_layout()\n",
    "plt.show()"
   ]
  },
  {
   "cell_type": "code",
   "execution_count": 23,
   "id": "d4434453",
   "metadata": {},
   "outputs": [
    {
     "data": {
      "image/png": "[encoded data removed]",
      "text/plain": [
       "<Figure size 576x360 with 2 Axes>"
      ]
     },
     "metadata": {
      "needs_background": "light"
     },
     "output_type": "display_data"
    }
   ],
   "source": [
    "## This heatmap visualizes the correlation between all numeric columns in the dataset, \n",
    " # highlighting how strongly each pair of variables is linearly related.\n",
    "\n",
    "plt.figure(figsize=(8, 5))\n",
    "num_col = df.select_dtypes(include='number').columns\n",
    "sns.heatmap(df[num_col].corr(), annot=True, cmap='Blues', linewidths=0.5)\n",
    "plt.title(\"Correlation Heatmap of Numeric Columns\")\n",
    "plt.show()"
   ]
  },
  {
   "cell_type": "markdown",
   "id": "2178a534",
   "metadata": {},
   "source": [
    "# <h1 style=\"color: darkblue;\">Conclusion :-"
   ]
  },
  {
   "cell_type": "raw",
   "id": "d9f21e6a",
   "metadata": {},
   "source": [
    "The data highlights ongoing health concerns across U.S. states related to poor nutrition, limited physical activity, and rising obesity rates. Many people do not meet recommended levels of exercise or fruit and vegetable intake. These patterns can lead to serious health problems over time. Improving access to healthy food and promoting active lifestyles are key steps toward better public health."
   ]
  },
  {
   "cell_type": "code",
   "execution_count": null,
   "id": "0d56f277",
   "metadata": {},
   "outputs": [],
   "source": []
  },
  {
   "cell_type": "code",
   "execution_count": null,
   "id": "7a16ba3b",
   "metadata": {},
   "outputs": [],
   "source": []
  }
 ],
 "metadata": {
  "kernelspec": {
   "display_name": "Python 3 (ipykernel)",
   "language": "python",
   "name": "python3"
  },
  "language_info": {
   "codemirror_mode": {
    "name": "ipython",
    "version": 3
   },
   "file_extension": ".py",
   "mimetype": "text/x-python",
   "name": "python",
   "nbconvert_exporter": "python",
   "pygments_lexer": "ipython3",
   "version": "3.9.7"
  }
 },
 "nbformat": 4,
 "nbformat_minor": 5
}
