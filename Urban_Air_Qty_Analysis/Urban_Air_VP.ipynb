{
 "cells": [
  {
   "cell_type": "markdown",
   "id": "d47dc2ac",
   "metadata": {},
   "source": [
    "# <h1 style=\"color: brown;\">EDA ON URBAN AIR QUALITY AND HEALTH IMPACT"
   ]
  },
  {
   "cell_type": "markdown",
   "id": "a4c48ef1",
   "metadata": {},
   "source": [
    "# <h1 style=\"color: DARKBLUE;\">Importing Libraries :-"
   ]
  },
  {
   "cell_type": "code",
   "execution_count": 1,
   "id": "bd75ee8a",
   "metadata": {},
   "outputs": [
    {
     "name": "stdout",
     "output_type": "stream",
     "text": [
      "Import Libraries Successfully\n"
     ]
    }
   ],
   "source": [
    "import pandas as pd\n",
    "import numpy as np\n",
    "import matplotlib.pyplot as plt\n",
    "import seaborn as sns\n",
    "import warnings\n",
    "warnings.filterwarnings('ignore')\n",
    "print('Import Libraries Successfully')"
   ]
  },
  {
   "cell_type": "markdown",
   "id": "7d72b254",
   "metadata": {},
   "source": [
    "# <h1 style=\"color: DARKBLUE;\">Data Loading And Explortion :-"
   ]
  },
  {
   "cell_type": "code",
   "execution_count": 2,
   "id": "d8279ee4",
   "metadata": {},
   "outputs": [
    {
     "data": {
      "text/html": [
       "<div>\n",
       "<style scoped>\n",
       "    .dataframe tbody tr th:only-of-type {\n",
       "        vertical-align: middle;\n",
       "    }\n",
       "\n",
       "    .dataframe tbody tr th {\n",
       "        vertical-align: top;\n",
       "    }\n",
       "\n",
       "    .dataframe thead th {\n",
       "        text-align: right;\n",
       "    }\n",
       "</style>\n",
       "<table border=\"1\" class=\"dataframe\">\n",
       "  <thead>\n",
       "    <tr style=\"text-align: right;\">\n",
       "      <th></th>\n",
       "      <th>datetime</th>\n",
       "      <th>datetimeEpoch</th>\n",
       "      <th>tempmax</th>\n",
       "      <th>tempmin</th>\n",
       "      <th>temp</th>\n",
       "      <th>feelslikemax</th>\n",
       "      <th>feelslikemin</th>\n",
       "      <th>feelslike</th>\n",
       "      <th>dew</th>\n",
       "      <th>humidity</th>\n",
       "      <th>...</th>\n",
       "      <th>City</th>\n",
       "      <th>Temp_Range</th>\n",
       "      <th>Heat_Index</th>\n",
       "      <th>Severity_Score</th>\n",
       "      <th>Condition_Code</th>\n",
       "      <th>Month</th>\n",
       "      <th>Season</th>\n",
       "      <th>Day_of_Week</th>\n",
       "      <th>Is_Weekend</th>\n",
       "      <th>Health_Risk_Score</th>\n",
       "    </tr>\n",
       "  </thead>\n",
       "  <tbody>\n",
       "    <tr>\n",
       "      <th>0</th>\n",
       "      <td>2024-09-07</td>\n",
       "      <td>1725692400</td>\n",
       "      <td>106.1</td>\n",
       "      <td>91.0</td>\n",
       "      <td>98.5</td>\n",
       "      <td>104.0</td>\n",
       "      <td>88.1</td>\n",
       "      <td>95.9</td>\n",
       "      <td>51.5</td>\n",
       "      <td>21.0</td>\n",
       "      <td>...</td>\n",
       "      <td>Phoenix</td>\n",
       "      <td>15.1</td>\n",
       "      <td>95.918703</td>\n",
       "      <td>4.43</td>\n",
       "      <td>NaN</td>\n",
       "      <td>9</td>\n",
       "      <td>Fall</td>\n",
       "      <td>Saturday</td>\n",
       "      <td>True</td>\n",
       "      <td>10.522170</td>\n",
       "    </tr>\n",
       "    <tr>\n",
       "      <th>1</th>\n",
       "      <td>2024-09-08</td>\n",
       "      <td>1725778800</td>\n",
       "      <td>103.9</td>\n",
       "      <td>87.0</td>\n",
       "      <td>95.4</td>\n",
       "      <td>100.5</td>\n",
       "      <td>84.7</td>\n",
       "      <td>92.3</td>\n",
       "      <td>48.7</td>\n",
       "      <td>21.5</td>\n",
       "      <td>...</td>\n",
       "      <td>Phoenix</td>\n",
       "      <td>16.9</td>\n",
       "      <td>92.281316</td>\n",
       "      <td>3.88</td>\n",
       "      <td>0.0</td>\n",
       "      <td>9</td>\n",
       "      <td>Fall</td>\n",
       "      <td>Sunday</td>\n",
       "      <td>True</td>\n",
       "      <td>10.062332</td>\n",
       "    </tr>\n",
       "  </tbody>\n",
       "</table>\n",
       "<p>2 rows × 46 columns</p>\n",
       "</div>"
      ],
      "text/plain": [
       "     datetime  datetimeEpoch  tempmax  tempmin  temp  feelslikemax  \\\n",
       "0  2024-09-07     1725692400    106.1     91.0  98.5         104.0   \n",
       "1  2024-09-08     1725778800    103.9     87.0  95.4         100.5   \n",
       "\n",
       "   feelslikemin  feelslike   dew  humidity  ...     City  Temp_Range  \\\n",
       "0          88.1       95.9  51.5      21.0  ...  Phoenix        15.1   \n",
       "1          84.7       92.3  48.7      21.5  ...  Phoenix        16.9   \n",
       "\n",
       "   Heat_Index Severity_Score  Condition_Code  Month  Season  Day_of_Week  \\\n",
       "0   95.918703           4.43             NaN      9    Fall     Saturday   \n",
       "1   92.281316           3.88             0.0      9    Fall       Sunday   \n",
       "\n",
       "   Is_Weekend  Health_Risk_Score  \n",
       "0        True          10.522170  \n",
       "1        True          10.062332  \n",
       "\n",
       "[2 rows x 46 columns]"
      ]
     },
     "execution_count": 2,
     "metadata": {},
     "output_type": "execute_result"
    }
   ],
   "source": [
    "df = pd.read_csv(r'C:\\Users\\aelisha patel\\Downloads\\Urban Air Quality and Health Impact Dataset.csv')\n",
    "df.head(2)"
   ]
  },
  {
   "cell_type": "code",
   "execution_count": 3,
   "id": "9a2a2adc",
   "metadata": {},
   "outputs": [
    {
     "data": {
      "text/html": [
       "<div>\n",
       "<style scoped>\n",
       "    .dataframe tbody tr th:only-of-type {\n",
       "        vertical-align: middle;\n",
       "    }\n",
       "\n",
       "    .dataframe tbody tr th {\n",
       "        vertical-align: top;\n",
       "    }\n",
       "\n",
       "    .dataframe thead th {\n",
       "        text-align: right;\n",
       "    }\n",
       "</style>\n",
       "<table border=\"1\" class=\"dataframe\">\n",
       "  <thead>\n",
       "    <tr style=\"text-align: right;\">\n",
       "      <th></th>\n",
       "      <th>datetime</th>\n",
       "      <th>datetimeEpoch</th>\n",
       "      <th>tempmax</th>\n",
       "      <th>tempmin</th>\n",
       "      <th>temp</th>\n",
       "      <th>feelslikemax</th>\n",
       "      <th>feelslikemin</th>\n",
       "      <th>feelslike</th>\n",
       "      <th>dew</th>\n",
       "      <th>humidity</th>\n",
       "      <th>...</th>\n",
       "      <th>City</th>\n",
       "      <th>Temp_Range</th>\n",
       "      <th>Heat_Index</th>\n",
       "      <th>Severity_Score</th>\n",
       "      <th>Condition_Code</th>\n",
       "      <th>Month</th>\n",
       "      <th>Season</th>\n",
       "      <th>Day_of_Week</th>\n",
       "      <th>Is_Weekend</th>\n",
       "      <th>Health_Risk_Score</th>\n",
       "    </tr>\n",
       "  </thead>\n",
       "  <tbody>\n",
       "    <tr>\n",
       "      <th>998</th>\n",
       "      <td>2024-09-14</td>\n",
       "      <td>1726283774</td>\n",
       "      <td>77.106797</td>\n",
       "      <td>61.481724</td>\n",
       "      <td>68.106569</td>\n",
       "      <td>76.426959</td>\n",
       "      <td>60.901526</td>\n",
       "      <td>68.094309</td>\n",
       "      <td>63.169608</td>\n",
       "      <td>86.860261</td>\n",
       "      <td>...</td>\n",
       "      <td>Los Angeles</td>\n",
       "      <td>15.477717</td>\n",
       "      <td>67.930437</td>\n",
       "      <td>3.498942</td>\n",
       "      <td>0.0</td>\n",
       "      <td>9</td>\n",
       "      <td>Fall</td>\n",
       "      <td>Saturday</td>\n",
       "      <td>True</td>\n",
       "      <td>9.561602</td>\n",
       "    </tr>\n",
       "    <tr>\n",
       "      <th>999</th>\n",
       "      <td>2024-09-18</td>\n",
       "      <td>1726618425</td>\n",
       "      <td>90.923080</td>\n",
       "      <td>79.296868</td>\n",
       "      <td>81.636991</td>\n",
       "      <td>94.180423</td>\n",
       "      <td>78.071851</td>\n",
       "      <td>84.987113</td>\n",
       "      <td>73.393045</td>\n",
       "      <td>74.734715</td>\n",
       "      <td>...</td>\n",
       "      <td>Houston</td>\n",
       "      <td>11.017871</td>\n",
       "      <td>86.802712</td>\n",
       "      <td>3.040020</td>\n",
       "      <td>0.0</td>\n",
       "      <td>9</td>\n",
       "      <td>Fall</td>\n",
       "      <td>Wednesday</td>\n",
       "      <td>False</td>\n",
       "      <td>10.978044</td>\n",
       "    </tr>\n",
       "  </tbody>\n",
       "</table>\n",
       "<p>2 rows × 46 columns</p>\n",
       "</div>"
      ],
      "text/plain": [
       "       datetime  datetimeEpoch    tempmax    tempmin       temp  feelslikemax  \\\n",
       "998  2024-09-14     1726283774  77.106797  61.481724  68.106569     76.426959   \n",
       "999  2024-09-18     1726618425  90.923080  79.296868  81.636991     94.180423   \n",
       "\n",
       "     feelslikemin  feelslike        dew   humidity  ...         City  \\\n",
       "998     60.901526  68.094309  63.169608  86.860261  ...  Los Angeles   \n",
       "999     78.071851  84.987113  73.393045  74.734715  ...      Houston   \n",
       "\n",
       "     Temp_Range  Heat_Index Severity_Score  Condition_Code  Month  Season  \\\n",
       "998   15.477717   67.930437       3.498942             0.0      9    Fall   \n",
       "999   11.017871   86.802712       3.040020             0.0      9    Fall   \n",
       "\n",
       "     Day_of_Week  Is_Weekend  Health_Risk_Score  \n",
       "998     Saturday        True           9.561602  \n",
       "999    Wednesday       False          10.978044  \n",
       "\n",
       "[2 rows x 46 columns]"
      ]
     },
     "execution_count": 3,
     "metadata": {},
     "output_type": "execute_result"
    }
   ],
   "source": [
    "df.tail(2)"
   ]
  },
  {
   "cell_type": "code",
   "execution_count": 4,
   "id": "b766245a",
   "metadata": {},
   "outputs": [
    {
     "data": {
      "text/plain": [
       "Index(['datetime', 'datetimeEpoch', 'tempmax', 'tempmin', 'temp',\n",
       "       'feelslikemax', 'feelslikemin', 'feelslike', 'dew', 'humidity',\n",
       "       'precip', 'precipprob', 'precipcover', 'preciptype', 'snow',\n",
       "       'snowdepth', 'windgust', 'windspeed', 'winddir', 'pressure',\n",
       "       'cloudcover', 'visibility', 'solarradiation', 'solarenergy', 'uvindex',\n",
       "       'severerisk', 'sunrise', 'sunriseEpoch', 'sunset', 'sunsetEpoch',\n",
       "       'moonphase', 'conditions', 'description', 'icon', 'stations', 'source',\n",
       "       'City', 'Temp_Range', 'Heat_Index', 'Severity_Score', 'Condition_Code',\n",
       "       'Month', 'Season', 'Day_of_Week', 'Is_Weekend', 'Health_Risk_Score'],\n",
       "      dtype='object')"
      ]
     },
     "execution_count": 4,
     "metadata": {},
     "output_type": "execute_result"
    }
   ],
   "source": [
    "df.columns"
   ]
  },
  {
   "cell_type": "markdown",
   "id": "9dadc725",
   "metadata": {},
   "source": [
    "# <h1 style=\"color: DARKBLUE;\">Information About Data :-"
   ]
  },
  {
   "cell_type": "code",
   "execution_count": 5,
   "id": "50bff0b7",
   "metadata": {},
   "outputs": [
    {
     "name": "stdout",
     "output_type": "stream",
     "text": [
      "<class 'pandas.core.frame.DataFrame'>\n",
      "RangeIndex: 1000 entries, 0 to 999\n",
      "Data columns (total 46 columns):\n",
      " #   Column             Non-Null Count  Dtype  \n",
      "---  ------             --------------  -----  \n",
      " 0   datetime           1000 non-null   object \n",
      " 1   datetimeEpoch      1000 non-null   int64  \n",
      " 2   tempmax            1000 non-null   float64\n",
      " 3   tempmin            1000 non-null   float64\n",
      " 4   temp               1000 non-null   float64\n",
      " 5   feelslikemax       1000 non-null   float64\n",
      " 6   feelslikemin       1000 non-null   float64\n",
      " 7   feelslike          1000 non-null   float64\n",
      " 8   dew                1000 non-null   float64\n",
      " 9   humidity           1000 non-null   float64\n",
      " 10  precip             1000 non-null   float64\n",
      " 11  precipprob         1000 non-null   float64\n",
      " 12  precipcover        1000 non-null   float64\n",
      " 13  preciptype         378 non-null    object \n",
      " 14  snow               1000 non-null   int64  \n",
      " 15  snowdepth          929 non-null    float64\n",
      " 16  windgust           1000 non-null   float64\n",
      " 17  windspeed          1000 non-null   float64\n",
      " 18  winddir            1000 non-null   float64\n",
      " 19  pressure           1000 non-null   float64\n",
      " 20  cloudcover         1000 non-null   float64\n",
      " 21  visibility         1000 non-null   float64\n",
      " 22  solarradiation     1000 non-null   float64\n",
      " 23  solarenergy        1000 non-null   float64\n",
      " 24  uvindex            1000 non-null   float64\n",
      " 25  severerisk         1000 non-null   float64\n",
      " 26  sunrise            1000 non-null   object \n",
      " 27  sunriseEpoch       1000 non-null   int64  \n",
      " 28  sunset             1000 non-null   object \n",
      " 29  sunsetEpoch        1000 non-null   int64  \n",
      " 30  moonphase          1000 non-null   float64\n",
      " 31  conditions         1000 non-null   object \n",
      " 32  description        1000 non-null   object \n",
      " 33  icon               1000 non-null   object \n",
      " 34  stations           67 non-null     object \n",
      " 35  source             1000 non-null   object \n",
      " 36  City               1000 non-null   object \n",
      " 37  Temp_Range         1000 non-null   float64\n",
      " 38  Heat_Index         1000 non-null   float64\n",
      " 39  Severity_Score     1000 non-null   float64\n",
      " 40  Condition_Code     569 non-null    float64\n",
      " 41  Month              1000 non-null   int64  \n",
      " 42  Season             1000 non-null   object \n",
      " 43  Day_of_Week        1000 non-null   object \n",
      " 44  Is_Weekend         1000 non-null   bool   \n",
      " 45  Health_Risk_Score  1000 non-null   float64\n",
      "dtypes: bool(1), float64(28), int64(5), object(12)\n",
      "memory usage: 352.7+ KB\n"
     ]
    }
   ],
   "source": [
    "df.info()"
   ]
  },
  {
   "cell_type": "code",
   "execution_count": 6,
   "id": "8f791d64",
   "metadata": {},
   "outputs": [
    {
     "data": {
      "text/html": [
       "<div>\n",
       "<style scoped>\n",
       "    .dataframe tbody tr th:only-of-type {\n",
       "        vertical-align: middle;\n",
       "    }\n",
       "\n",
       "    .dataframe tbody tr th {\n",
       "        vertical-align: top;\n",
       "    }\n",
       "\n",
       "    .dataframe thead th {\n",
       "        text-align: right;\n",
       "    }\n",
       "</style>\n",
       "<table border=\"1\" class=\"dataframe\">\n",
       "  <thead>\n",
       "    <tr style=\"text-align: right;\">\n",
       "      <th></th>\n",
       "      <th>datetimeEpoch</th>\n",
       "      <th>tempmax</th>\n",
       "      <th>tempmin</th>\n",
       "      <th>temp</th>\n",
       "      <th>feelslikemax</th>\n",
       "      <th>feelslikemin</th>\n",
       "      <th>feelslike</th>\n",
       "      <th>dew</th>\n",
       "      <th>humidity</th>\n",
       "      <th>precip</th>\n",
       "      <th>...</th>\n",
       "      <th>severerisk</th>\n",
       "      <th>sunriseEpoch</th>\n",
       "      <th>sunsetEpoch</th>\n",
       "      <th>moonphase</th>\n",
       "      <th>Temp_Range</th>\n",
       "      <th>Heat_Index</th>\n",
       "      <th>Severity_Score</th>\n",
       "      <th>Condition_Code</th>\n",
       "      <th>Month</th>\n",
       "      <th>Health_Risk_Score</th>\n",
       "    </tr>\n",
       "  </thead>\n",
       "  <tbody>\n",
       "    <tr>\n",
       "      <th>count</th>\n",
       "      <td>1.000000e+03</td>\n",
       "      <td>1000.000000</td>\n",
       "      <td>1000.000000</td>\n",
       "      <td>1000.000000</td>\n",
       "      <td>1000.000000</td>\n",
       "      <td>1000.000000</td>\n",
       "      <td>1000.000000</td>\n",
       "      <td>1000.000000</td>\n",
       "      <td>1000.000000</td>\n",
       "      <td>1000.000000</td>\n",
       "      <td>...</td>\n",
       "      <td>1000.000000</td>\n",
       "      <td>1.000000e+03</td>\n",
       "      <td>1.000000e+03</td>\n",
       "      <td>1000.000000</td>\n",
       "      <td>1000.000000</td>\n",
       "      <td>1000.000000</td>\n",
       "      <td>1000.000000</td>\n",
       "      <td>569.0</td>\n",
       "      <td>1000.0</td>\n",
       "      <td>1000.000000</td>\n",
       "    </tr>\n",
       "    <tr>\n",
       "      <th>mean</th>\n",
       "      <td>1.726284e+09</td>\n",
       "      <td>85.106961</td>\n",
       "      <td>68.641638</td>\n",
       "      <td>76.115967</td>\n",
       "      <td>85.195384</td>\n",
       "      <td>68.547548</td>\n",
       "      <td>76.323286</td>\n",
       "      <td>57.267120</td>\n",
       "      <td>56.782281</td>\n",
       "      <td>0.032135</td>\n",
       "      <td>...</td>\n",
       "      <td>12.923695</td>\n",
       "      <td>1.726309e+09</td>\n",
       "      <td>1.726353e+09</td>\n",
       "      <td>0.383811</td>\n",
       "      <td>16.469899</td>\n",
       "      <td>80.195613</td>\n",
       "      <td>3.057743</td>\n",
       "      <td>0.0</td>\n",
       "      <td>9.0</td>\n",
       "      <td>9.729103</td>\n",
       "    </tr>\n",
       "    <tr>\n",
       "      <th>std</th>\n",
       "      <td>3.745834e+05</td>\n",
       "      <td>9.524231</td>\n",
       "      <td>8.474102</td>\n",
       "      <td>8.722070</td>\n",
       "      <td>9.496951</td>\n",
       "      <td>8.365809</td>\n",
       "      <td>8.621361</td>\n",
       "      <td>9.161517</td>\n",
       "      <td>16.708667</td>\n",
       "      <td>0.083461</td>\n",
       "      <td>...</td>\n",
       "      <td>8.838858</td>\n",
       "      <td>3.753453e+05</td>\n",
       "      <td>3.753012e+05</td>\n",
       "      <td>0.147229</td>\n",
       "      <td>5.552785</td>\n",
       "      <td>6.053805</td>\n",
       "      <td>0.624024</td>\n",
       "      <td>0.0</td>\n",
       "      <td>0.0</td>\n",
       "      <td>0.679728</td>\n",
       "    </tr>\n",
       "    <tr>\n",
       "      <th>min</th>\n",
       "      <td>1.725624e+09</td>\n",
       "      <td>62.035432</td>\n",
       "      <td>49.108218</td>\n",
       "      <td>55.548415</td>\n",
       "      <td>62.206413</td>\n",
       "      <td>48.834041</td>\n",
       "      <td>57.748822</td>\n",
       "      <td>26.261814</td>\n",
       "      <td>11.752135</td>\n",
       "      <td>-0.021213</td>\n",
       "      <td>...</td>\n",
       "      <td>7.507579</td>\n",
       "      <td>1.725668e+09</td>\n",
       "      <td>1.725686e+09</td>\n",
       "      <td>0.123494</td>\n",
       "      <td>1.676587</td>\n",
       "      <td>65.511677</td>\n",
       "      <td>1.578048</td>\n",
       "      <td>0.0</td>\n",
       "      <td>9.0</td>\n",
       "      <td>8.492431</td>\n",
       "    </tr>\n",
       "    <tr>\n",
       "      <th>25%</th>\n",
       "      <td>1.725948e+09</td>\n",
       "      <td>78.661118</td>\n",
       "      <td>62.678245</td>\n",
       "      <td>69.102499</td>\n",
       "      <td>78.485332</td>\n",
       "      <td>62.734961</td>\n",
       "      <td>68.930104</td>\n",
       "      <td>51.229378</td>\n",
       "      <td>49.982029</td>\n",
       "      <td>-0.000511</td>\n",
       "      <td>...</td>\n",
       "      <td>9.705341</td>\n",
       "      <td>1.725976e+09</td>\n",
       "      <td>1.726021e+09</td>\n",
       "      <td>0.247940</td>\n",
       "      <td>13.319119</td>\n",
       "      <td>76.287207</td>\n",
       "      <td>2.583375</td>\n",
       "      <td>0.0</td>\n",
       "      <td>9.0</td>\n",
       "      <td>9.195244</td>\n",
       "    </tr>\n",
       "    <tr>\n",
       "      <th>50%</th>\n",
       "      <td>1.726285e+09</td>\n",
       "      <td>84.322847</td>\n",
       "      <td>67.702405</td>\n",
       "      <td>75.222751</td>\n",
       "      <td>84.284077</td>\n",
       "      <td>67.844544</td>\n",
       "      <td>75.544961</td>\n",
       "      <td>58.598490</td>\n",
       "      <td>58.486182</td>\n",
       "      <td>0.004000</td>\n",
       "      <td>...</td>\n",
       "      <td>10.080919</td>\n",
       "      <td>1.726312e+09</td>\n",
       "      <td>1.726352e+09</td>\n",
       "      <td>0.385185</td>\n",
       "      <td>16.694710</td>\n",
       "      <td>78.562345</td>\n",
       "      <td>3.026242</td>\n",
       "      <td>0.0</td>\n",
       "      <td>9.0</td>\n",
       "      <td>9.546156</td>\n",
       "    </tr>\n",
       "    <tr>\n",
       "      <th>75%</th>\n",
       "      <td>1.726616e+09</td>\n",
       "      <td>91.653987</td>\n",
       "      <td>75.585109</td>\n",
       "      <td>82.396698</td>\n",
       "      <td>93.757026</td>\n",
       "      <td>75.591093</td>\n",
       "      <td>84.309449</td>\n",
       "      <td>62.738294</td>\n",
       "      <td>66.560400</td>\n",
       "      <td>0.015258</td>\n",
       "      <td>...</td>\n",
       "      <td>10.860683</td>\n",
       "      <td>1.726642e+09</td>\n",
       "      <td>1.726687e+09</td>\n",
       "      <td>0.516248</td>\n",
       "      <td>20.734495</td>\n",
       "      <td>85.318985</td>\n",
       "      <td>3.507127</td>\n",
       "      <td>0.0</td>\n",
       "      <td>9.0</td>\n",
       "      <td>10.242523</td>\n",
       "    </tr>\n",
       "    <tr>\n",
       "      <th>max</th>\n",
       "      <td>1.727021e+09</td>\n",
       "      <td>107.797400</td>\n",
       "      <td>91.635546</td>\n",
       "      <td>99.851684</td>\n",
       "      <td>105.060170</td>\n",
       "      <td>89.369854</td>\n",
       "      <td>98.193984</td>\n",
       "      <td>76.648668</td>\n",
       "      <td>92.459293</td>\n",
       "      <td>0.471666</td>\n",
       "      <td>...</td>\n",
       "      <td>61.727919</td>\n",
       "      <td>1.726991e+09</td>\n",
       "      <td>1.727027e+09</td>\n",
       "      <td>0.649488</td>\n",
       "      <td>29.790757</td>\n",
       "      <td>96.684162</td>\n",
       "      <td>5.158112</td>\n",
       "      <td>0.0</td>\n",
       "      <td>9.0</td>\n",
       "      <td>11.485725</td>\n",
       "    </tr>\n",
       "  </tbody>\n",
       "</table>\n",
       "<p>8 rows × 33 columns</p>\n",
       "</div>"
      ],
      "text/plain": [
       "       datetimeEpoch      tempmax      tempmin         temp  feelslikemax  \\\n",
       "count   1.000000e+03  1000.000000  1000.000000  1000.000000   1000.000000   \n",
       "mean    1.726284e+09    85.106961    68.641638    76.115967     85.195384   \n",
       "std     3.745834e+05     9.524231     8.474102     8.722070      9.496951   \n",
       "min     1.725624e+09    62.035432    49.108218    55.548415     62.206413   \n",
       "25%     1.725948e+09    78.661118    62.678245    69.102499     78.485332   \n",
       "50%     1.726285e+09    84.322847    67.702405    75.222751     84.284077   \n",
       "75%     1.726616e+09    91.653987    75.585109    82.396698     93.757026   \n",
       "max     1.727021e+09   107.797400    91.635546    99.851684    105.060170   \n",
       "\n",
       "       feelslikemin    feelslike          dew     humidity       precip  ...  \\\n",
       "count   1000.000000  1000.000000  1000.000000  1000.000000  1000.000000  ...   \n",
       "mean      68.547548    76.323286    57.267120    56.782281     0.032135  ...   \n",
       "std        8.365809     8.621361     9.161517    16.708667     0.083461  ...   \n",
       "min       48.834041    57.748822    26.261814    11.752135    -0.021213  ...   \n",
       "25%       62.734961    68.930104    51.229378    49.982029    -0.000511  ...   \n",
       "50%       67.844544    75.544961    58.598490    58.486182     0.004000  ...   \n",
       "75%       75.591093    84.309449    62.738294    66.560400     0.015258  ...   \n",
       "max       89.369854    98.193984    76.648668    92.459293     0.471666  ...   \n",
       "\n",
       "        severerisk  sunriseEpoch   sunsetEpoch    moonphase   Temp_Range  \\\n",
       "count  1000.000000  1.000000e+03  1.000000e+03  1000.000000  1000.000000   \n",
       "mean     12.923695  1.726309e+09  1.726353e+09     0.383811    16.469899   \n",
       "std       8.838858  3.753453e+05  3.753012e+05     0.147229     5.552785   \n",
       "min       7.507579  1.725668e+09  1.725686e+09     0.123494     1.676587   \n",
       "25%       9.705341  1.725976e+09  1.726021e+09     0.247940    13.319119   \n",
       "50%      10.080919  1.726312e+09  1.726352e+09     0.385185    16.694710   \n",
       "75%      10.860683  1.726642e+09  1.726687e+09     0.516248    20.734495   \n",
       "max      61.727919  1.726991e+09  1.727027e+09     0.649488    29.790757   \n",
       "\n",
       "        Heat_Index  Severity_Score  Condition_Code   Month  Health_Risk_Score  \n",
       "count  1000.000000     1000.000000           569.0  1000.0        1000.000000  \n",
       "mean     80.195613        3.057743             0.0     9.0           9.729103  \n",
       "std       6.053805        0.624024             0.0     0.0           0.679728  \n",
       "min      65.511677        1.578048             0.0     9.0           8.492431  \n",
       "25%      76.287207        2.583375             0.0     9.0           9.195244  \n",
       "50%      78.562345        3.026242             0.0     9.0           9.546156  \n",
       "75%      85.318985        3.507127             0.0     9.0          10.242523  \n",
       "max      96.684162        5.158112             0.0     9.0          11.485725  \n",
       "\n",
       "[8 rows x 33 columns]"
      ]
     },
     "execution_count": 6,
     "metadata": {},
     "output_type": "execute_result"
    }
   ],
   "source": [
    "df.describe()"
   ]
  },
  {
   "cell_type": "code",
   "execution_count": 7,
   "id": "1b6a4637",
   "metadata": {},
   "outputs": [
    {
     "name": "stdout",
     "output_type": "stream",
     "text": [
      "Shape of data : (1000, 46)\n",
      "Number of row : 1000\n",
      "Number of columns : 46\n"
     ]
    }
   ],
   "source": [
    "## Data Shape \n",
    "\n",
    "print('Shape of data : {}'.format(df.shape))\n",
    "print('Number of row : {}'.format(df.shape[0]))\n",
    "print('Number of columns : {}'.format(df.shape[1]))"
   ]
  },
  {
   "cell_type": "code",
   "execution_count": 8,
   "id": "20fdb73b",
   "metadata": {},
   "outputs": [
    {
     "data": {
      "text/plain": [
       "46000"
      ]
     },
     "execution_count": 8,
     "metadata": {},
     "output_type": "execute_result"
    }
   ],
   "source": [
    "df.size"
   ]
  },
  {
   "cell_type": "code",
   "execution_count": 9,
   "id": "892becf1",
   "metadata": {},
   "outputs": [
    {
     "data": {
      "text/plain": [
       "datetime              object\n",
       "datetimeEpoch          int64\n",
       "tempmax              float64\n",
       "tempmin              float64\n",
       "temp                 float64\n",
       "feelslikemax         float64\n",
       "feelslikemin         float64\n",
       "feelslike            float64\n",
       "dew                  float64\n",
       "humidity             float64\n",
       "precip               float64\n",
       "precipprob           float64\n",
       "precipcover          float64\n",
       "preciptype            object\n",
       "snow                   int64\n",
       "snowdepth            float64\n",
       "windgust             float64\n",
       "windspeed            float64\n",
       "winddir              float64\n",
       "pressure             float64\n",
       "cloudcover           float64\n",
       "visibility           float64\n",
       "solarradiation       float64\n",
       "solarenergy          float64\n",
       "uvindex              float64\n",
       "severerisk           float64\n",
       "sunrise               object\n",
       "sunriseEpoch           int64\n",
       "sunset                object\n",
       "sunsetEpoch            int64\n",
       "moonphase            float64\n",
       "conditions            object\n",
       "description           object\n",
       "icon                  object\n",
       "stations              object\n",
       "source                object\n",
       "City                  object\n",
       "Temp_Range           float64\n",
       "Heat_Index           float64\n",
       "Severity_Score       float64\n",
       "Condition_Code       float64\n",
       "Month                  int64\n",
       "Season                object\n",
       "Day_of_Week           object\n",
       "Is_Weekend              bool\n",
       "Health_Risk_Score    float64\n",
       "dtype: object"
      ]
     },
     "execution_count": 9,
     "metadata": {},
     "output_type": "execute_result"
    }
   ],
   "source": [
    "df.dtypes"
   ]
  },
  {
   "cell_type": "markdown",
   "id": "d3be89de",
   "metadata": {},
   "source": [
    "## 1. Find Any Missing And Duplicates Values :-"
   ]
  },
  {
   "cell_type": "code",
   "execution_count": 10,
   "id": "52a7fbde",
   "metadata": {},
   "outputs": [
    {
     "name": "stdout",
     "output_type": "stream",
     "text": [
      "stations             933\n",
      "preciptype           622\n",
      "Condition_Code       431\n",
      "snowdepth             71\n",
      "sunrise                0\n",
      "sunriseEpoch           0\n",
      "sunset                 0\n",
      "sunsetEpoch            0\n",
      "moonphase              0\n",
      "conditions             0\n",
      "description            0\n",
      "icon                   0\n",
      "datetime               0\n",
      "uvindex                0\n",
      "source                 0\n",
      "City                   0\n",
      "Temp_Range             0\n",
      "Heat_Index             0\n",
      "Severity_Score         0\n",
      "Month                  0\n",
      "Season                 0\n",
      "Day_of_Week            0\n",
      "Is_Weekend             0\n",
      "severerisk             0\n",
      "solarenergy            0\n",
      "datetimeEpoch          0\n",
      "precip                 0\n",
      "tempmax                0\n",
      "tempmin                0\n",
      "temp                   0\n",
      "feelslikemax           0\n",
      "feelslikemin           0\n",
      "feelslike              0\n",
      "dew                    0\n",
      "humidity               0\n",
      "precipprob             0\n",
      "solarradiation         0\n",
      "precipcover            0\n",
      "snow                   0\n",
      "windgust               0\n",
      "windspeed              0\n",
      "winddir                0\n",
      "pressure               0\n",
      "cloudcover             0\n",
      "visibility             0\n",
      "Health_Risk_Score      0\n",
      "dtype: int64\n",
      "Duplicated Values in data are 0\n",
      "duplicated dropped\n"
     ]
    }
   ],
   "source": [
    "print(df.isna().sum().sort_values(ascending = False))\n",
    "print('Duplicated Values in data are', df.duplicated().sum())\n",
    "print('duplicated dropped')"
   ]
  },
  {
   "cell_type": "code",
   "execution_count": 11,
   "id": "404c4e42",
   "metadata": {},
   "outputs": [
    {
     "data": {
      "text/plain": [
       "0      2024-09-07\n",
       "1      2024-09-08\n",
       "2      2024-09-09\n",
       "3      2024-09-10\n",
       "4      2024-09-11\n",
       "          ...    \n",
       "995    2024-09-18\n",
       "996    2024-09-17\n",
       "997    2024-09-12\n",
       "998    2024-09-14\n",
       "999    2024-09-18\n",
       "Name: datetime, Length: 1000, dtype: object"
      ]
     },
     "execution_count": 11,
     "metadata": {},
     "output_type": "execute_result"
    }
   ],
   "source": [
    "df['datetime']"
   ]
  },
  {
   "cell_type": "code",
   "execution_count": 12,
   "id": "ab5dd831",
   "metadata": {},
   "outputs": [
    {
     "data": {
      "text/plain": [
       "['KORD', 'KMDW', 'F1983', 'KPWK']                                      12\n",
       "['F8578', 'KLNC', 'KHQZ', 'KDAL', 'KDFW', 'KGKY', 'KRBD', 'KGPM']      11\n",
       "['KLGA', 'KJRB', 'F1417', 'KNYC']                                       9\n",
       "['KSKF', 'KSSF', 'KSAT', 'F6098']                                       7\n",
       "['KHOU', 'KIAH', 'KMCJ', 'D0326']                                       7\n",
       "['KSDL', 'KDVT', 'AZM15', 'KPHX']                                       6\n",
       "['KSJC', 'KLVK', 'E6873', 'KHWD', 'KWVI', 'KOAK']                       5\n",
       "['KHHR', 'KBUR', 'KSMO', 'SE428', 'KLAX', 'F1624', 'CQ070', 'KLGB']     4\n",
       "['KNZY', 'KSAN', 'E8360', 'KMYF']                                       3\n",
       "['KVAY', 'E8199', 'KPHL', 'KPTW', 'KLOM', 'KPNE', 'KDYL']               3\n",
       "Name: stations, dtype: int64"
      ]
     },
     "execution_count": 12,
     "metadata": {},
     "output_type": "execute_result"
    }
   ],
   "source": [
    "df['stations'].value_counts()"
   ]
  },
  {
   "cell_type": "code",
   "execution_count": 13,
   "id": "14cbbe84",
   "metadata": {},
   "outputs": [
    {
     "data": {
      "text/plain": [
       "Chicago          131\n",
       "New York City    113\n",
       "Phoenix          106\n",
       "Dallas           106\n",
       "Philadelphia      94\n",
       "Los Angeles       93\n",
       "San Diego         93\n",
       "San Jose          90\n",
       "Houston           89\n",
       "San Antonio       85\n",
       "Name: City, dtype: int64"
      ]
     },
     "execution_count": 13,
     "metadata": {},
     "output_type": "execute_result"
    }
   ],
   "source": [
    "df['City'].value_counts()"
   ]
  },
  {
   "cell_type": "code",
   "execution_count": 14,
   "id": "f57c1699",
   "metadata": {},
   "outputs": [
    {
     "data": {
      "text/plain": [
       "9    1000\n",
       "Name: Month, dtype: int64"
      ]
     },
     "execution_count": 14,
     "metadata": {},
     "output_type": "execute_result"
    }
   ],
   "source": [
    "df['Month'].value_counts()"
   ]
  },
  {
   "cell_type": "code",
   "execution_count": 15,
   "id": "987bf013",
   "metadata": {},
   "outputs": [
    {
     "data": {
      "text/plain": [
       "Saturday     205\n",
       "Monday       139\n",
       "Wednesday    138\n",
       "Thursday     132\n",
       "Friday       131\n",
       "Tuesday      128\n",
       "Sunday       127\n",
       "Name: Day_of_Week, dtype: int64"
      ]
     },
     "execution_count": 15,
     "metadata": {},
     "output_type": "execute_result"
    }
   ],
   "source": [
    "df['Day_of_Week'].value_counts()"
   ]
  },
  {
   "cell_type": "markdown",
   "id": "b9c7d64f",
   "metadata": {},
   "source": [
    "## 2. Drop Columns :"
   ]
  },
  {
   "cell_type": "code",
   "execution_count": 16,
   "id": "0eec20ba",
   "metadata": {},
   "outputs": [],
   "source": [
    "#We will exclude columns that have only 1 data type and/or a very large percentage of null data.\n",
    "\n",
    "df.drop([\"preciptype\", \"snow\", \"snowdepth\", \"Condition_Code\", \"Month\", \"Season\", \"stations\"], axis=1, inplace=True)"
   ]
  },
  {
   "cell_type": "code",
   "execution_count": 17,
   "id": "9c2fd990",
   "metadata": {},
   "outputs": [
    {
     "data": {
      "text/plain": [
       "(1000, 39)"
      ]
     },
     "execution_count": 17,
     "metadata": {},
     "output_type": "execute_result"
    }
   ],
   "source": [
    "df.shape"
   ]
  },
  {
   "cell_type": "markdown",
   "id": "80abcf77",
   "metadata": {},
   "source": [
    "## <h1 style=\"color: darkblue;\">Data Visualization"
   ]
  },
  {
   "cell_type": "code",
   "execution_count": 18,
   "id": "aa8d1bbb",
   "metadata": {},
   "outputs": [
    {
     "data": {
      "image/png": "[encoded data removed]",
      "text/plain": [
       "<Figure size 432x288 with 1 Axes>"
      ]
     },
     "metadata": {
      "needs_background": "light"
     },
     "output_type": "display_data"
    }
   ],
   "source": [
    "## The histogram with a smooth line shows how the Health_Risk_Score is spread out, \n",
    " # helping us see how often different scores occur and the overall pattern of the data.\n",
    "\n",
    "sns.histplot(df['Health_Risk_Score'], kde=True, bins=30)\n",
    "plt.title('Distribution of Health Risk Score')\n",
    "plt.xlabel('Health Risk Score')\n",
    "plt.ylabel('Frequency')\n",
    "plt.show()"
   ]
  },
  {
   "cell_type": "code",
   "execution_count": 19,
   "id": "e90b734a",
   "metadata": {},
   "outputs": [
    {
     "data": {
      "text/plain": [
       "Text(0.5, 1.0, 'Number of snow')"
      ]
     },
     "execution_count": 19,
     "metadata": {},
     "output_type": "execute_result"
    },
    {
     "data": {
      "image/png": "[encoded data removed]",
      "text/plain": [
       "<Figure size 792x432 with 1 Axes>"
      ]
     },
     "metadata": {
      "needs_background": "light"
     },
     "output_type": "display_data"
    }
   ],
   "source": [
    "plt.figure(figsize = (11,6))\n",
    "sns.countplot(x = 'City', data = df)\n",
    "plt.xticks(rotation = 45)\n",
    "plt.title(\"Number of snow\")"
   ]
  },
  {
   "cell_type": "code",
   "execution_count": 20,
   "id": "cbe26b48",
   "metadata": {},
   "outputs": [
    {
     "data": {
      "image/png": "[encoded data removed]",
      "text/plain": [
       "<Figure size 504x360 with 1 Axes>"
      ]
     },
     "metadata": {},
     "output_type": "display_data"
    }
   ],
   "source": [
    "## The pie chart shows the percentage distribution of respiratory issues across five cities,\n",
    " # visually representing how each city's health impact contributes to the overall total.\n",
    "\n",
    "fig, ax = plt.subplots(figsize=(7,5))\n",
    "cities = ['City A', 'City B', 'City C', 'City D', 'City E']\n",
    "respiratory_issues = [5, 15, 30, 50, 75]\n",
    "\n",
    "# Create Pie Chart\n",
    "plt.pie(respiratory_issues, labels=cities, autopct='%1.1f%%', startangle=90)\n",
    "\n",
    "# Add title\n",
    "plt.title(\"Distribution of Respiratory Issues Across Cities\")\n",
    "\n",
    "# Display chart\n",
    "plt.axis('equal')\n",
    "plt.show()\n"
   ]
  },
  {
   "cell_type": "code",
   "execution_count": 21,
   "id": "35791548",
   "metadata": {},
   "outputs": [
    {
     "data": {
      "image/png": "[encoded data removed]",
      "text/plain": [
       "<Figure size 576x360 with 1 Axes>"
      ]
     },
     "metadata": {
      "needs_background": "light"
     },
     "output_type": "display_data"
    }
   ],
   "source": [
    "# Group AND Average of Health_Risk_Score X Top 10 City\n",
    "df_cat = df.groupby('City')[\"Health_Risk_Score\"].mean().reset_index()\n",
    "df_cat = df_cat.sort_values(by='Health_Risk_Score', ascending=False).head(10)\n",
    "\n",
    "# fix labels, Size And Title\n",
    "fig, ax = plt.subplots(figsize=(8, 5))\n",
    "ax = sns.barplot(x = 'City', y = \"Health_Risk_Score\", data = df_cat, palette = 'cool')\n",
    "plt.title(\"Average of Health_Risk_Score X Top 10 City\", fontsize = 16)\n",
    "plt.xticks(rotation=45, fontsize = 10)\n",
    "\n",
    "\n",
    "# Adding labels to each bar\n",
    "for p in ax.patches:\n",
    "    ax.annotate(format(p.get_height(), '.1f'), (p.get_x() + p.get_width() / 2., p.get_height()),\n",
    "                ha = 'center', va = 'center', xytext = (0, 5), textcoords = 'offset points', rotation=0, fontsize=10)\n",
    "\n",
    "# Display the Chart\n",
    "plt.show()"
   ]
  },
  {
   "cell_type": "code",
   "execution_count": 22,
   "id": "2ea2a54d",
   "metadata": {},
   "outputs": [
    {
     "data": {
      "image/png": "[encoded data removed]",
      "text/plain": [
       "<Figure size 864x432 with 1 Axes>"
      ]
     },
     "metadata": {},
     "output_type": "display_data"
    }
   ],
   "source": [
    "## The box plot visualizes the distribution of Health_Risk_Score across different cities, highlighting the median, \n",
    " # quartiles, and potential outliers in the data.\n",
    "\n",
    "sns.set(style=\"whitegrid\")\n",
    "plt.figure(figsize=(12, 6))\n",
    "\n",
    "# Plot\n",
    "ax = sns.boxplot(x='City', y='Health_Risk_Score', data=df, palette=\"Set2\")\n",
    "\n",
    "# Set labels and title\n",
    "ax.set_title('Health Risk Score Distribution by City', fontsize=20)\n",
    "ax.set_xlabel('City', fontsize=14)\n",
    "ax.set_ylabel('Health Risk Score', fontsize=14)\n",
    "\n",
    "# Display the chart\n",
    "plt.show()"
   ]
  },
  {
   "cell_type": "markdown",
   "id": "a08ec241",
   "metadata": {},
   "source": [
    "Below The bar chart displays the average Health_Risk_Score for each city,with the percentage of the \n",
    "total health risk score contributed by each city shown above the corresponding bar."
   ]
  },
  {
   "cell_type": "code",
   "execution_count": 23,
   "id": "10626ad4",
   "metadata": {},
   "outputs": [
    {
     "data": {
      "image/png": "[encoded data removed]",
      "text/plain": [
       "<Figure size 864x432 with 1 Axes>"
      ]
     },
     "metadata": {},
     "output_type": "display_data"
    }
   ],
   "source": [
    "# Create a bar chart with average health risk score by city\n",
    "plt.figure(figsize=(12, 6))\n",
    "\n",
    "# Create the bar plot\n",
    "ax = sns.barplot(x='City', y='Health_Risk_Score', data=df, palette=\"Set2\")\n",
    "\n",
    "# Set labels and title\n",
    "ax.set_title('Average Health Risk Score by City', fontsize=20)\n",
    "ax.set_xlabel('City', fontsize=14)\n",
    "ax.set_ylabel('Average Health Risk Score', fontsize=14)\n",
    "\n",
    "# Calculate the total Health_Risk_Score for all cities\n",
    "total_score = df['Health_Risk_Score'].sum()\n",
    "\n",
    "# fix percentage labels and size\n",
    "for p in ax.patches:\n",
    "    height = p.get_height()\n",
    "    percentage = (height / total_score) * 100  # Calculate percentage\n",
    "    ax.text(p.get_x() + p.get_width() / 2., height + 0.1, f'{percentage:.2f}%', \n",
    "            ha='center', fontsize=12, color='black')\n",
    "\n",
    "# Rotate x-axis labels for better readability\n",
    "plt.xticks(rotation=45)\n",
    "\n",
    "# Display the plot\n",
    "plt.show()\n"
   ]
  },
  {
   "cell_type": "markdown",
   "id": "71025065",
   "metadata": {},
   "source": [
    "## <h1 style=\"color: DARKBLUE;\">Conclusion :"
   ]
  },
  {
   "cell_type": "markdown",
   "id": "e63adb35",
   "metadata": {},
   "source": [
    "In this project, we explored how different weather and air quality factors affect people's health in urban areas. We used charts like bar plots, box plots, and histograms to understand patterns in data such as temperature, humidity, conditions, and health risk scores.\n",
    "\n",
    "From the analysis:\n",
    "1. Some cities showed higher health risks compared to others, likely due to more pollution or harsh weather.\n",
    "\n",
    "2. Certain weather conditions (like fog, rain, or high humidity) were linked to higher health risk scores.\n",
    "\n",
    "3. Health risks also changed slightly by day of the week, which may reflect changes in weather or human activity.\n",
    "\n",
    "4. Overall, this analysis helps us understand when and where people might be more at risk due to environmental conditions. This kind of insight can support city planning and help raise public awareness about health and air quality."
   ]
  },
  {
   "cell_type": "code",
   "execution_count": null,
   "id": "d775f27a",
   "metadata": {},
   "outputs": [],
   "source": []
  }
 ],
 "metadata": {
  "kernelspec": {
   "display_name": "Python 3 (ipykernel)",
   "language": "python",
   "name": "python3"
  },
  "language_info": {
   "codemirror_mode": {
    "name": "ipython",
    "version": 3
   },
   "file_extension": ".py",
   "mimetype": "text/x-python",
   "name": "python",
   "nbconvert_exporter": "python",
   "pygments_lexer": "ipython3",
   "version": "3.9.7"
  }
 },
 "nbformat": 4,
 "nbformat_minor": 5
}
